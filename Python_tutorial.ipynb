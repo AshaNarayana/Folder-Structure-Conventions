{
  "nbformat": 4,
  "nbformat_minor": 0,
  "metadata": {
    "colab": {
      "provenance": [],
      "toc_visible": true,
      "authorship_tag": "ABX9TyMmMZMpbvwVZtfdDDRHvXTc",
      "include_colab_link": true
    },
    "kernelspec": {
      "name": "python3",
      "display_name": "Python 3"
    },
    "language_info": {
      "name": "python"
    }
  },
  "cells": [
    {
      "cell_type": "markdown",
      "metadata": {
        "id": "view-in-github",
        "colab_type": "text"
      },
      "source": [
        "<a href=\"https://colab.research.google.com/github/AshaNarayana/Folder-Structure-Conventions/blob/master/Python_tutorial.ipynb\" target=\"_parent\"><img src=\"https://colab.research.google.com/assets/colab-badge.svg\" alt=\"Open In Colab\"/></a>"
      ]
    },
    {
      "cell_type": "code",
      "execution_count": 10,
      "metadata": {
        "colab": {
          "base_uri": "https://localhost:8080/",
          "height": 263
        },
        "id": "ftFaLz-tKJZ6",
        "outputId": "99ea62fa-e4ca-4588-86a0-f8904a95c9b2"
      },
      "outputs": [
        {
          "name": "stdout",
          "output_type": "stream",
          "text": [
            "Enter operation type (add, subtract, multiply, divide): add\n",
            "Enter first number: 1\n",
            "Enter second number: \n"
          ]
        },
        {
          "output_type": "error",
          "ename": "ValueError",
          "evalue": "could not convert string to float: ''",
          "traceback": [
            "\u001b[0;31m---------------------------------------------------------------------------\u001b[0m",
            "\u001b[0;31mValueError\u001b[0m                                Traceback (most recent call last)",
            "\u001b[0;32m<ipython-input-10-f5ca6008de91>\u001b[0m in \u001b[0;36m<cell line: 0>\u001b[0;34m()\u001b[0m\n\u001b[1;32m     25\u001b[0m   \u001b[0moperationType\u001b[0m\u001b[0;34m=\u001b[0m \u001b[0minput\u001b[0m\u001b[0;34m(\u001b[0m\u001b[0;34m\"Enter operation type (add, subtract, multiply, divide): \"\u001b[0m\u001b[0;34m)\u001b[0m\u001b[0;34m\u001b[0m\u001b[0;34m\u001b[0m\u001b[0m\n\u001b[1;32m     26\u001b[0m   \u001b[0mnum1\u001b[0m \u001b[0;34m=\u001b[0m \u001b[0mfloat\u001b[0m\u001b[0;34m(\u001b[0m\u001b[0minput\u001b[0m\u001b[0;34m(\u001b[0m\u001b[0;34m\"Enter first number: \"\u001b[0m\u001b[0;34m)\u001b[0m\u001b[0;34m)\u001b[0m\u001b[0;34m\u001b[0m\u001b[0;34m\u001b[0m\u001b[0m\n\u001b[0;32m---> 27\u001b[0;31m   \u001b[0mnum2\u001b[0m \u001b[0;34m=\u001b[0m \u001b[0mfloat\u001b[0m\u001b[0;34m(\u001b[0m\u001b[0minput\u001b[0m\u001b[0;34m(\u001b[0m\u001b[0;34m\"Enter second number: \"\u001b[0m\u001b[0;34m)\u001b[0m\u001b[0;34m)\u001b[0m\u001b[0;34m\u001b[0m\u001b[0;34m\u001b[0m\u001b[0m\n\u001b[0m\u001b[1;32m     28\u001b[0m   \u001b[0moperation\u001b[0m \u001b[0;34m=\u001b[0m \u001b[0mMathOperations\u001b[0m\u001b[0;34m(\u001b[0m\u001b[0mnum1\u001b[0m\u001b[0;34m,\u001b[0m \u001b[0mnum2\u001b[0m\u001b[0;34m)\u001b[0m\u001b[0;34m\u001b[0m\u001b[0;34m\u001b[0m\u001b[0m\n\u001b[1;32m     29\u001b[0m   \u001b[0mprint\u001b[0m\u001b[0;34m(\u001b[0m\u001b[0;34m\"Addition:\"\u001b[0m\u001b[0;34m,\u001b[0m \u001b[0moperation\u001b[0m\u001b[0;34m.\u001b[0m\u001b[0madd\u001b[0m\u001b[0;34m(\u001b[0m\u001b[0;34m)\u001b[0m\u001b[0;34m)\u001b[0m\u001b[0;34m\u001b[0m\u001b[0;34m\u001b[0m\u001b[0m\n",
            "\u001b[0;31mValueError\u001b[0m: could not convert string to float: ''"
          ]
        }
      ],
      "source": [
        "class MathOperations:\n",
        "  def __init__(self, num1, num2):\n",
        "    self.num1 = num1\n",
        "    self.num2 = num2\n",
        "  def add(self):\n",
        "    try:\n",
        "      sum = self.num1 + self.num2\n",
        "      return sum\n",
        "    except ValueError:\n",
        "      return \"print exception occured\"\n",
        "  def subtract(self):\n",
        "    return self.num1 - self.num2\n",
        "  def multiply(self):\n",
        "    return self.num1 * self.num2\n",
        "  def divide(self):\n",
        "    try:\n",
        "      return self.num1 / self.num2\n",
        "    except ZeroDivisionError:\n",
        "      return \"Division by zero error\", ZeroDivisionError # Handle division by zero\n",
        "    except ValueError:\n",
        "      return \"print exception occured\"\n",
        "\n",
        "# Example usage\n",
        "if __name__ == \"__main__\":\n",
        "  operationType= input(\"Enter operation type (add, subtract, multiply, divide): \")\n",
        "  num1 = float(input(\"Enter first number: \"))\n",
        "  num2 = float(input(\"Enter second number: \"))\n",
        "  operation = MathOperations(num1, num2)\n",
        "  print(\"Addition:\", operation.add())\n",
        "  print(\"Subtraction:\", operation.subtract())\n",
        "  print(\"Multiplication:\", operation.multiply())\n",
        "  print(\"Division:\", operation.divide())\n",
        "1\n",
        "\n"
      ]
    },
    {
      "cell_type": "code",
      "source": [
        "#b. Extra: if you find this too easy, add a math function for rising to some power.\n",
        "class MathOperations:\n",
        "  def __init__(self, num1, num2):\n",
        "    self.num1 = num1\n",
        "    self.num2 = num2\n",
        "  def add(self):\n",
        "    try:\n",
        "      sum = self.num1 + self.num2\n",
        "      return sum\n",
        "    except ValueError:\n",
        "      return \"print exception occured\"\n",
        "  def subtract(self):\n",
        "    return self.num1 - self.num2\n",
        "  def multiply(self):\n",
        "    return self.num1 * self.num2\n",
        "  def divide(self):\n",
        "    try:\n",
        "      return self.num1 / self.num2\n",
        "    except ZeroDivisionError:\n",
        "      return \"Division by zero error\", ZeroDivisionError # Handle division by zero\n",
        "    except ValueError:\n",
        "      return \"print exception occured\"\n",
        "  def power(self):\n",
        "    return self.num1 ** self.num2\n",
        "\n",
        "# Example usage\n",
        "if __name__ == \"__main__\":\n",
        "  operationType= input(\"Enter operation type (add, subtract, multiply, divide, power): \")\n",
        "  num1 = float(input(\"En2ter first number: \"))\n",
        "  num2 = float(input(\"Enter second number: \"))\n",
        "  operation = MathOperations(num1, num2)\n",
        "  print(\"Addition:\", operation.add())\n",
        "  print(\"Subtraction:\", operation.subtract())\n",
        "  print(\"Multiplication:\", operation.multiply())\n",
        "  print(\"Division:\", operation.divide())\n",
        "  print(\"Power:\", operation.power())\n",
        "1\n",
        "\n"
      ],
      "metadata": {
        "colab": {
          "base_uri": "https://localhost:8080/"
        },
        "id": "f-vFgPByZeJK",
        "outputId": "eb13464c-d3b2-4d03-e2bc-505ea6787a8b"
      },
      "execution_count": 11,
      "outputs": [
        {
          "output_type": "stream",
          "name": "stdout",
          "text": [
            "Enter operation type (add, subtract, multiply, divide): power\n",
            "Enter first number: 1\n",
            "Enter second number: 2\n",
            "Addition: 3.0\n",
            "Subtraction: -1.0\n",
            "Multiplication: 2.0\n",
            "Division: 0.5\n",
            "Power: 1.0\n"
          ]
        },
        {
          "output_type": "execute_result",
          "data": {
            "text/plain": [
              "1"
            ]
          },
          "metadata": {},
          "execution_count": 11
        }
      ]
    },
    {
      "cell_type": "code",
      "source": [
        "import logging\n",
        "# Configure the logging\n",
        "logging.basicConfig(\n",
        " level=logging.DEBUG,\n",
        " format='%(asctime)s [%(levelname)s] %(message)s',\n",
        " handlers=[\n",
        " logging.FileHandler(\"example.log\"), # Log to a file\n",
        " logging.StreamHandler() # Also log to console\n",
        " ]\n",
        ")\n",
        "\n",
        "# Sample functions with logging\n",
        "def divide(a, b):\n",
        " logging.info(f\"Attempting to divide {a} by {b}\")\n",
        " try:\n",
        "    result = a / b\n",
        "    logging.debug(f\"Division result: {result}\")\n",
        "    return result\n",
        " except ZeroDivisionError:\n",
        "    logging.error(\"Division by zero!\", exc_info=True)\n",
        "    return None\n",
        "def main():\n",
        " logging.info(\"Program started\")\n",
        "\n",
        " divide(10, 2)\n",
        "\n",
        "\n",
        " logging.warning(\"This is just a warning.\")\n",
        " logging.debug(\"End of main function\")\n",
        " logging.info(\"Program finished\")\n",
        "if __name__ == \"__main__\":\n",
        " main()"
      ],
      "metadata": {
        "colab": {
          "base_uri": "https://localhost:8080/"
        },
        "id": "_splerVRZvE_",
        "outputId": "3153b4b1-ec79-4dbd-f58d-f6a540d45183"
      },
      "execution_count": 15,
      "outputs": [
        {
          "output_type": "stream",
          "name": "stderr",
          "text": [
            "WARNING:root:This is just a warning.\n"
          ]
        }
      ]
    },
    {
      "cell_type": "code",
      "source": [
        "class BankAccount:\n",
        "  def __init__(self, account_number, account_holder_name, initial_balance=0):\n",
        "    self.__account_number = account_number\n",
        "    self.__account_holder_name = account_holder_name\n",
        "    self.__account_balance = initial_balance\n",
        "\n",
        "  def get_balance(self):\n",
        "     print(f\"Account balance for {self.__account_holder_name}: ${self.__account_balance}\")\n",
        "     return self.__account_balance\n",
        "  def deposit(self, amount):\n",
        "    if amount > 0:\n",
        "      self.__account_balance += amount\n",
        "      return (f\"Deposited ${amount}. New balance: ${self.__account_balance}\")\n",
        "    else:\n",
        "      print (\"Invalid deposit amount. Amount must be greater than zero.\")\n",
        "  def withdraw(self, amount):\n",
        "    if 0 < amount <= self.__account_balance:\n",
        "      self.__account_balance -= amount\n",
        "      return f\"Withdrew ${amount}. New balance: ${self.__account_balance}\"\n",
        "    else:\n",
        "      print (\"Invalid withdrawal amount or insufficient balance.\")\n",
        "\n",
        "   #Example usage\n",
        "account1 = BankAccount(\"1234567890\", \"Alice\", 1000)\n",
        "account1.deposit(500)\n",
        "account1.withdraw(200)\n",
        "account1.get_balance()\n",
        "\n",
        "account2 = BankAccount(\"9876543210\", \"Bob\")\n",
        "account2.deposit(100)\n",
        "account2.withdraw(50)\n",
        "account2.get_balance()\n",
        "account2.withdraw(100)\n"
      ],
      "metadata": {
        "colab": {
          "base_uri": "https://localhost:8080/"
        },
        "id": "K9FgErCKaSAz",
        "outputId": "d6518f69-d513-4e6b-a1b4-6eaccf56b980"
      },
      "execution_count": 17,
      "outputs": [
        {
          "output_type": "stream",
          "name": "stdout",
          "text": [
            "Account balance for Alice: $1300\n",
            "Account balance for Bob: $50\n",
            "Invalid withdrawal amount or insufficient balance.\n"
          ]
        }
      ]
    },
    {
      "cell_type": "code",
      "source": [],
      "metadata": {
        "id": "8gWEaBg1d4DI"
      },
      "execution_count": null,
      "outputs": []
    },
    {
      "cell_type": "markdown",
      "source": [
        "# Now you will write your own code. You will add a method to the bank account class. That\n",
        "method will compute interest on the account for a specific period of time. You may want to pass\n",
        "in the time and the interest rate as variables, or you may want one of those to be a constant you\n",
        "define in the class. Then also alter the code for the implementation so it calls that function.\n"
      ],
      "metadata": {
        "id": "G-D7HqBrd78E"
      }
    },
    {
      "cell_type": "code",
      "source": [
        "class Animal:\n",
        " \"\"\"\n",
        " A class representing an animal.\n",
        " \"\"\"\n",
        " def __init__(self, name, species):\n",
        " self.name = name\n",
        " self.species = species\n",
        " def make_sound(self):\n",
        " \"\"\"\n",
        " Makes a generic animal sound.\n",
        " \"\"\"\n",
        " print(\"Generic animal sound\")\n",
        " def display_info(self):\n",
        " \"\"\"\n",
        " Displays information about the animal.\n",
        " \"\"\"\n",
        " print(f\"Name: {self.name}, Species: {self.species}\")\n",
        "class Dog(Animal):\n",
        " \"\"\"\n",
        " A class representing a dog, inheriting from Animal.\n",
        " \"\"\"\n",
        " def __init__(self, name, breed):\n",
        " super().__init__(name, species=\"Dog\")\n",
        " self.breed = breed\n",
        " def make_sound(self):\n",
        " \"\"\"\n",
        " Makes a dog sound (bark).\n",
        " \"\"\"\n",
        " print(\"Woof!\")\n",
        "class Cat(Animal):\n",
        " \"\"\"\n",
        " A class representing a cat, inheriting from Animal.\n",
        " \"\"\"\n",
        " def __init__(self, name, color):\n",
        " super().__init__(name, species=\"Cat\")\n",
        " self.color = color\n",
        " def make_sound(self):\n",
        " \"\"\"\n",
        " Makes a cat sound (meow).\n",
        " \"\"\"\n",
        " print(\"Meow!\")\n",
        "# Create instances of the classes\n",
        "animal = Animal(\"Generic Animal\", \"Unknown\")\n",
        "dog = Dog(\"Fido\", \"Golden Retriever\")\n",
        "cat = Cat(\"Mr. Whiskers\", \"Gray\")\n",
        "# Demonstrate polymorphism through the make_sound method\n",
        "animal.make_sound() # Output: Generic animal sound\n",
        "dog.make_sound() # Output: Woof!\n",
        "cat.make_sound() # Output: Meow!\n",
        "# Demonstrate inheritance by accessing properties from the parent class\n",
        "dog.display_info() # Output: Name: Buddy, Species: Dog\n",
        "cat.display_info() # Output: Name: Whiskers, Species: Cat"
      ],
      "metadata": {
        "id": "dHW8DgCed9Rt"
      },
      "execution_count": null,
      "outputs": []
    },
    {
      "cell_type": "code",
      "source": [],
      "metadata": {
        "id": "yOo0i75ceOMo"
      },
      "execution_count": null,
      "outputs": []
    }
  ]
}